{
 "cells": [
  {
   "cell_type": "markdown",
   "metadata": {},
   "source": [
    "# Data-Driven real-estate investment risk model\n",
    "## App"
   ]
  },
  {
   "cell_type": "markdown",
   "metadata": {},
   "source": [
    "Importing neccessary libraries"
   ]
  },
  {
   "cell_type": "code",
   "execution_count": 1,
   "metadata": {},
   "outputs": [],
   "source": [
    "import os\n",
    "import pandas as pd\n",
    "import numpy as np\n",
    "from sklearn.preprocessing import MinMaxScaler\n",
    "from sklearn.model_selection import ShuffleSplit\n",
    "from sklearn.linear_model import LinearRegression\n",
    "from flask import Flask, render_template,redirect, url_for, request\n",
    "import matplotlib.pyplot as plt"
   ]
  },
  {
   "cell_type": "markdown",
   "metadata": {},
   "source": [
    "Intializing the Flask app."
   ]
  },
  {
   "cell_type": "code",
   "execution_count": 2,
   "metadata": {},
   "outputs": [],
   "source": [
    "app=Flask(__name__)"
   ]
  },
  {
   "cell_type": "markdown",
   "metadata": {},
   "source": [
    "I am looking at the markets of 14 Metropolitan areas across USA. These areas are identified by their MSA (Metropolitan Statistical Area) codes.\n",
    "\n",
    "Importing msa codes data."
   ]
  },
  {
   "cell_type": "code",
   "execution_count": 3,
   "metadata": {},
   "outputs": [],
   "source": [
    "MSA_codes=pd.read_excel(r'Data/MSA_codes.xlsx')"
   ]
  },
  {
   "cell_type": "markdown",
   "metadata": {},
   "source": [
    "To see how good the new weights are, I also made prediction using weights that are currently being used to estimate risk-score. Here is the table of these weights,\n",
    "\n",
    "Note: Weights are re-scaled to give a out of 100 score to each factor."
   ]
  },
  {
   "cell_type": "code",
   "execution_count": 4,
   "metadata": {},
   "outputs": [],
   "source": [
    "Current_Weights=pd.read_excel(r'Data/Current_Weights.xlsx')\n",
    "Current_Weights.set_index('Factor',inplace=True)"
   ]
  },
  {
   "cell_type": "markdown",
   "metadata": {},
   "source": [
    "First I import the cleaned datatable containing quarterly data on the factors and change quarterly returns for different markets."
   ]
  },
  {
   "cell_type": "code",
   "execution_count": 5,
   "metadata": {},
   "outputs": [],
   "source": [
    "Data=pd.read_csv(r'Input_data_market_risk_model.csv')"
   ]
  },
  {
   "cell_type": "markdown",
   "metadata": {},
   "source": [
    "## Feature Scaling\n",
    "Before I feed the data into the model I need to scale all the different columns to same range. Why we do this? If we kept the factors data in their current form and then train the model, it will give us weights heavily biased on the scale of factors data. I perform **Max-Min feature scaling** with range as [0,1] so that the smallest datapoint for each factor is converted to zero and highest datapoint converts to 1. Here is the formula to perform this transformation.\n",
    "\\begin{equation*}\n",
    "X_{new} = \\frac{X_{old} - min(X_{old})}{max(X_{old}) - min(X_{old})}\n",
    "\\end{equation*}"
   ]
  },
  {
   "cell_type": "code",
   "execution_count": 6,
   "metadata": {},
   "outputs": [],
   "source": [
    "def feature_scaling(Data):    \n",
    "    Scaling=MinMaxScaler(feature_range=(0,1))\n",
    "    return Scaling.fit_transform(np.float64(Data))"
   ]
  },
  {
   "cell_type": "markdown",
   "metadata": {},
   "source": [
    "## Error Metric: Weighted mean absolute percent error (WMAPE)\n",
    "To judge the prediction performance of a model I used a metric called as weighted mean absolute percent error. This metric gives a estimate of how off I am to the actual value. This is the formula.\n",
    "\\begin{equation*}\n",
    "WMAPE = \\sum_{i=0}^{N}\\frac{|y_{actual}^i-y_{predicted}^i|}{\\sum_{i=0}^{N}|y_{actual}^i|}\n",
    "\\end{equation*}"
   ]
  },
  {
   "cell_type": "code",
   "execution_count": 7,
   "metadata": {},
   "outputs": [],
   "source": [
    "def WMAPE(y_true,y_pred):\n",
    "    return 100*np.sum(abs(y_true - y_pred))/np.sum(abs(y_true))"
   ]
  },
  {
   "cell_type": "markdown",
   "metadata": {},
   "source": [
    "## Model training\n",
    "My strategy to estimate weights is simple, **take data, train the model, get the weights.** But working with small size data-set, the weights I estimate will be biased towards the training data. To go around that issue I performed this task **[take data, train the model, get the weights]** many times and each time with randomly selected training and testing data. What I get at the end are lists of weights from each training run. As the final result I calculate the 1st-3rd quartile and median of these lists. Hopefully as more data is added this step is not neccessary, but currently I am performing 1000 such training-testing runs. I create a function that takes in data for the market and trains 1000 models. The function will return a datatable containing lists weights associated with each factor."
   ]
  },
  {
   "cell_type": "code",
   "execution_count": 8,
   "metadata": {},
   "outputs": [],
   "source": [
    "def ML_Model(Data):\n",
    "    Factors=list(Data.columns.drop(['Date','msa code','state','Market','Change In Return']))# create a list of factors\n",
    "    # feature scale input datatable (factors)\n",
    "    X=feature_scaling(Data[Factors])\n",
    "    # feature scale output datatable (Change in quarterly returns)\n",
    "    Y=feature_scaling(Data['Change In Return'].values.reshape(-1,1))\n",
    "    # randomly create train-test split 'ns' times\n",
    "    ss = ShuffleSplit(n_splits=1000, test_size=0.33,random_state=0)\n",
    "    wmape=[]\n",
    "    wmape_check=[]\n",
    "    weights=[]\n",
    "    for train, test in ss.split(X):# loop over training runs\n",
    "        # split into training and testing data\n",
    "        X_train,X_test,y_train,y_test=X[train],X[test],Y[train],Y[test]\n",
    "        #Call linear regression model with intercept\n",
    "        model=LinearRegression(fit_intercept=True)\n",
    "        # fit the model on trainning data\n",
    "        model_fit=model.fit(X_train,y_train)\n",
    "        # make prediction on testing data using the fitted model\n",
    "        y_pred=model_fit.predict(X_test)\n",
    "        y_pred=y_pred.reshape(-1,1)\n",
    "        # make prediction on testing data using old weights\n",
    "        y_check=np.dot(X_test,Current_Weights['re-scaled weights']/100)\n",
    "        y_check=y_check.reshape(-1,1)\n",
    "        # get coefficients from the fitted linear model\n",
    "        Coeffs=model_fit.coef_.flatten()\n",
    "        # rescale coefficients to [0,1] range to make weights out of 100\n",
    "        Coeffs=np.absolute(Coeffs)/np.sum(np.absolute(Coeffs))\n",
    "        # wmape prediction error for fitted model\n",
    "        wmape.append(WMAPE(y_test,y_pred))\n",
    "        # wmape prediction error for old weights model\n",
    "        wmape_check.append(WMAPE(y_test,y_check))\n",
    "        # estimated weights\n",
    "        weights.append(Coeffs)\n",
    "    # storing all results in a datatable\n",
    "    Results=pd.DataFrame(data=np.round(np.multiply(np.absolute(weights),100)))\n",
    "    Results.columns=Factors\n",
    "    Results['WMAPE']=wmape\n",
    "    Results['WMAPE (old weights)']=wmape_check\n",
    "    return Results"
   ]
  },
  {
   "cell_type": "markdown",
   "metadata": {},
   "source": [
    "## Results\n",
    "I created a table with rows as the different factors and error and columns as the 1st-quartile, median and 3rd-quartile which are estimated from list of weights generated from 1000 trainned models."
   ]
  },
  {
   "cell_type": "code",
   "execution_count": 9,
   "metadata": {},
   "outputs": [],
   "source": [
    "def results_Quantile(Results):\n",
    "    # creating a datatable to save quartiles\n",
    "    Quantile_Df=pd.concat([Results.quantile(q=0.25,axis=0).transpose(), # 1st quartile (lower limit)\n",
    "                           Results.quantile(q=0.5,axis=0).transpose(), # 2nd quartile median\n",
    "                           Results.quantile(q=0.75,axis=0).transpose()],axis=1)# 3rd quartile (upper limit)\n",
    "    Quantile_Df.columns=['1st-quartile','median','3rd-quartile']\n",
    "    return round(Quantile_Df,2)"
   ]
  },
  {
   "cell_type": "markdown",
   "metadata": {},
   "source": [
    "## Results-Figure"
   ]
  },
  {
   "cell_type": "code",
   "execution_count": 10,
   "metadata": {},
   "outputs": [],
   "source": [
    "def create_figure(df,market):\n",
    "    # creating a boxplot\n",
    "    plt.figure(clear=True)\n",
    "    plt.boxplot(df.drop(['WMAPE','WMAPE (old weights)'],axis=1).transpose(), # including only weights results\n",
    "                labels=df.drop(['WMAPE','WMAPE (old weights)'],axis=1).columns,# factor labels\n",
    "                vert=False,\n",
    "                showfliers=False, # not showing outlier on boxplot\n",
    "                showcaps=False,whis=0,# not showing whiskers\n",
    "               medianprops = dict(linestyle='-', linewidth=2.5, color='firebrick'), # styling of median line\n",
    "               boxprops = dict(linestyle='-', linewidth=3, color='darkgoldenrod'))# styling of quartile range box\n",
    "    # figure title\n",
    "    plt.title('Market Risk model, Market: %s Median and 1st-3rd Quartile'%market,fontsize=14)\n",
    "    # figure labels\n",
    "    plt.xlabel('Estimated Weights',fontsize=14)\n",
    "    plt.ylabel('Factors',fontsize=14)\n",
    "    # figure ticks\n",
    "    plt.yticks(fontsize=12, rotation=0)\n",
    "    plt.xticks(fontsize=12)\n",
    "    # save the figure image in static/images folder\n",
    "    plt.savefig('static/images/%s.png'%market,bbox_inches = \"tight\")"
   ]
  },
  {
   "cell_type": "markdown",
   "metadata": {},
   "source": [
    "## App Input"
   ]
  },
  {
   "cell_type": "code",
   "execution_count": 11,
   "metadata": {},
   "outputs": [],
   "source": [
    "# Input page routed at http://127.0.0.1:5000/\n",
    "@app.route('/', methods=['GET'])\n",
    "def index():\n",
    "    Options=np.append(MSA_codes.Market.values,'All') # list of markets as input options\n",
    "    default = 'All' # set default input to be 'All'\n",
    "    # render the html file\n",
    "    return render_template('Input.html',Options=Options,default=default)"
   ]
  },
  {
   "cell_type": "markdown",
   "metadata": {},
   "source": [
    "## App Output"
   ]
  },
  {
   "cell_type": "code",
   "execution_count": 12,
   "metadata": {},
   "outputs": [],
   "source": [
    "# Input page routed at http://127.0.0.1:5000/\n",
    "@app.route('/weights', methods=['GET', 'POST'])\n",
    "def result():\n",
    "    # request the input\n",
    "    if request.method == 'POST':\n",
    "        market = request.form['market'] \n",
    "        # if input is 'All' estimate weights using All markets data\n",
    "        if market=='All':\n",
    "            Market_Results=ML_Model(Data)\n",
    "        # if input is a city name then, estimate weights using that market\n",
    "        else:\n",
    "            Data_cut=Data[(Data.Market==market)]\n",
    "            Market_Results=ML_Model(Data_cut)\n",
    "        # estimate quartile of the weights\n",
    "        Market_Quantile=results_Quantile(Market_Results)\n",
    "        # estimate the improvement in error prediction from old weights model to data-driven model\n",
    "        Improvement=round(100*(1-Market_Quantile.loc['WMAPE','median']/Market_Quantile.loc['WMAPE (old weights)','median']),2)\n",
    "        # create the results figure\n",
    "        create_figure(Market_Results,market=market)\n",
    "        # render the output html file\n",
    "        return render_template('Output.html',Market_Quantile=Market_Quantile.to_html(),\n",
    "                                city=market,Improvement=Improvement)"
   ]
  },
  {
   "cell_type": "markdown",
   "metadata": {},
   "source": [
    "## Launching the App\n",
    "Copy and past the link generated in incognito web browser to avoid caching the image. Also, clear the images in static/images folder"
   ]
  },
  {
   "cell_type": "code",
   "execution_count": 13,
   "metadata": {
    "scrolled": true
   },
   "outputs": [
    {
     "name": "stdout",
     "output_type": "stream",
     "text": [
      " * Serving Flask app \"__main__\" (lazy loading)\n",
      " * Environment: production\n",
      "   WARNING: Do not use the development server in a production environment.\n",
      "   Use a production WSGI server instead.\n",
      " * Debug mode: off\n"
     ]
    },
    {
     "name": "stderr",
     "output_type": "stream",
     "text": [
      " * Running on http://127.0.0.1:5000/ (Press CTRL+C to quit)\n",
      "127.0.0.1 - - [27/Jun/2019 06:40:49] \"\u001b[37mGET / HTTP/1.1\u001b[0m\" 200 -\n",
      "127.0.0.1 - - [27/Jun/2019 06:41:00] \"\u001b[37mPOST /weights HTTP/1.1\u001b[0m\" 200 -\n"
     ]
    },
    {
     "data": {
      "image/png": "[encoded data removed]",
      "text/plain": [
       "<Figure size 432x288 with 1 Axes>"
      ]
     },
     "metadata": {
      "needs_background": "light"
     },
     "output_type": "display_data"
    }
   ],
   "source": [
    "if __name__ == '__main__':\n",
    "    app.run(host='127.0.0.1',port=5000)"
   ]
  },
  {
   "cell_type": "code",
   "execution_count": null,
   "metadata": {},
   "outputs": [],
   "source": []
  }
 ],
 "metadata": {
  "kernelspec": {
   "display_name": "Python 3",
   "language": "python",
   "name": "python3"
  },
  "language_info": {
   "codemirror_mode": {
    "name": "ipython",
    "version": 3
   },
   "file_extension": ".py",
   "mimetype": "text/x-python",
   "name": "python",
   "nbconvert_exporter": "python",
   "pygments_lexer": "ipython3",
   "version": "3.7.3"
  }
 },
 "nbformat": 4,
 "nbformat_minor": 2
}
